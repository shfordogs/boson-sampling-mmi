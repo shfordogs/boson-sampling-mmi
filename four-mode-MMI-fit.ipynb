{
 "cells": [
  {
   "cell_type": "code",
   "execution_count": 1,
   "metadata": {},
   "outputs": [],
   "source": [
    "import numpy as np\n",
    "import scipy\n",
    "from scipy.linalg import expm\n",
    "import random\n",
    "import math\n",
    "from scipy.stats import unitary_group\n",
    "import matplotlib.pyplot as plt"
   ]
  },
  {
   "cell_type": "code",
   "execution_count": 2,
   "metadata": {},
   "outputs": [],
   "source": [
    "def create_un_mat(v):\n",
    "    Mc = np.zeros((4, 4),dtype=np.complex128)\n",
    "    Mc[0][1] = v[0] + 1j * v[1]\n",
    "    Mc[1][0] = v[0] - 1j * v[1]\n",
    "    \n",
    "    Mc[0][2] = v[2] + 1j * v[3]\n",
    "    Mc[2][0] = v[2] - 1j * v[3]\n",
    "    \n",
    "    Mc[0][3] = v[4] + 1j * v[5]\n",
    "    Mc[3][0] = v[4] - 1j * v[5]\n",
    "\n",
    "    Mc[1][2] = v[6] + 1j * v[7]\n",
    "    Mc[2][1] = v[6] - 1j * v[7]\n",
    "\n",
    "    Mc[1][3] = v[8] + 1j * v[9]\n",
    "    Mc[3][1] = v[8] - 1j * v[9]\n",
    "\n",
    "    Mc[2][3] = v[10] + 1j * v[11]\n",
    "    Mc[3][2] = v[10] - 1j * v[11]\n",
    "    \n",
    "    U = expm(1j * Mc)\n",
    "    \n",
    "    return U\n",
    "\n",
    "\n",
    "\n",
    "def f(v, data):\n",
    "    M1 = create_un_mat(v[:12])\n",
    "    M2 = create_un_mat(v[12:24])\n",
    "    alpha = np.reshape(v[24:33], (3, 3))\n",
    "    h_0 = v[33:36]\n",
    "    power = v[36]\n",
    "    cost = 0\n",
    "    for i in data:\n",
    "        x = np.zeros(3)\n",
    "        x[i[0]] = i[2] ** power\n",
    "        y = i[3:]\n",
    "        y /= np.sum(y)\n",
    "        h_list = h_0 + alpha.dot(np.transpose(x))\n",
    "        H = np.diag([math.e ** (1j * h) for h in h_list] + [1])\n",
    "        predict = (np.abs(np.transpose(M2.dot(H).dot(M1)))** 2)[i[1]]\n",
    "        cost += np.linalg.norm(np.array(predict)[0] - y)\n",
    "    return cost\n",
    "\n",
    "\n",
    "\n",
    "def numerical_gradient(data, x, epsilon=1e-8):\n",
    "    grad = np.zeros_like(x)\n",
    "    f_0 = f(x, data)\n",
    "    for i in range(len(x)):\n",
    "        x_up = np.copy(x)\n",
    "        x_down = np.copy(x)\n",
    "        x_up[i] += epsilon\n",
    "        x_down[i] -= epsilon\n",
    "        grad[i] = (f_0 - f(x_down, data)) / (2 * epsilon)\n",
    "    return np.sign(grad)\n",
    "\n",
    "\n",
    "def gradient_descent(data, x0, learning_rate_start=0.01, learning_rate_finish=0.01, max_iter=1000, tol=1e-4):\n",
    "    x = np.array(x0, dtype=float)\n",
    "    for i in range(max_iter):\n",
    "        learning_rate = (1 - i / max_iter) * learning_rate_start + learning_rate_finish\n",
    "        learning_rate = learning_rate_start\n",
    "        grad = numerical_gradient(data, x)\n",
    "        x_new = x - learning_rate * grad\n",
    "        if i % 10 == 0:\n",
    "            print(x_new)\n",
    "            print(\"Iteration = \", i, \"difference = \", np.linalg.norm(x_new - x))\n",
    "            print(f(x, data))\n",
    "        # if f(x_new, data) - f(x, data) < tol:\n",
    "        #     print(f\"Сходимость достигнута за {i+1} итераций.\")\n",
    "        #     break\n",
    "        x = x_new\n",
    "    return x, f(x, data)"
   ]
  },
  {
   "cell_type": "code",
   "execution_count": 4,
   "metadata": {},
   "outputs": [],
   "source": [
    "data = []\n",
    "for ch in range(4):\n",
    "    for H in range(3):\n",
    "        with open(f\"ch{ch + 1}_H{H + 9}.txt\") as file:\n",
    "            for line in file:\n",
    "                try:\n",
    "                    row = [float(num) for num in line.split()]\n",
    "                    row[0] *= 1000\n",
    "                    data.append([H, ch] + row)\n",
    "                except:\n",
    "                    pass\n",
    "\n",
    "# x0 = np.random.random(36) * 0.5 - 0.15\n",
    "# minimum_x, minimum_f = gradient_descent(data, x0, learning_rate_start=0.0001, learning_rate_finish=0.002)\n",
    "# print(f\"Минимум функции: f({minimum_x}) = {minimum_f}\")"
   ]
  },
  {
   "cell_type": "code",
   "execution_count": 13,
   "metadata": {},
   "outputs": [
    {
     "name": "stdout",
     "output_type": "stream",
     "text": [
      "[ 0.88096076 -0.064458    0.45588414  1.84734512  0.96106748  1.11347272\n",
      "  1.43202528  0.20772804  0.349056    0.24755444  1.5575124   2.10953392\n",
      "  1.04898462 -0.11090062  0.947262    0.89976212  1.0913234   1.21274414\n",
      "  0.99472552 -0.79586632  1.525474    0.8605079   2.3055719   1.38841058\n",
      "  1.75617218  1.85717864  0.027942    2.40010904 -1.29846152  2.4794611\n",
      "  0.22685702 -0.05045082 -0.078044   -0.61589012  0.9343123   0.6942155\n",
      "  4.122528  ]\n"
     ]
    }
   ],
   "source": [
    "minimum_x = [ 0.44048038, -0.032229,  0.22794207,  0.92367256,  0.48053374,  0.55673636,0.71601264,  0.10386402,  0.174528,  0.12377722,  0.7787562 ,  1.05476696,0.52449231, -0.05545031,  0.473631,  0.44988106,  0.5456617 ,  0.60637207,0.49736276, -0.39793316,  0.762737,  0.43025395,  1.15278595,  0.69420529,0.87808609,  0.92858932,  0.013971,  1.20005452, -0.64923076,  1.23973055,0.11342851, -0.02522541, -0.039022, -0.30794506,  0.46715615,  0.34710775,2.061264  ]\n",
    "print(np.array(minimum_x)*2)"
   ]
  },
  {
   "cell_type": "code",
   "execution_count": 15,
   "metadata": {},
   "outputs": [
    {
     "data": {
      "text/plain": [
       "[<matplotlib.lines.Line2D at 0x1a48b1fdfc8>]"
      ]
     },
     "execution_count": 15,
     "metadata": {},
     "output_type": "execute_result"
    },
    {
     "data": {
      "image/png": "[encoded data removed]",
      "text/plain": [
       "<Figure size 432x288 with 1 Axes>"
      ]
     },
     "metadata": {
      "needs_background": "light"
     },
     "output_type": "display_data"
    }
   ],
   "source": [
    "minimum_x = [-9.01956034e-01,  8.74385026e-01,  1.09828027e+00,  8.82065368e-01,\n",
    " -2.31327601e-01, -5.02960660e-01,  9.95458957e-01, -8.88173752e-01,\n",
    "  2.81315100e-01,  1.01313985e+00, -1.38759816e-01,  1.04227919e+00,\n",
    "  3.30879006e-01,  2.98846762e-01,  1.33234783e-01, -2.66454363e-02,\n",
    "  1.21061661e+00,  5.08040156e-01,  3.66054184e-01,  1.08378887e+00,\n",
    "  1.15004830e+00, -2.23319681e-01, -2.77453343e-01,  1.88927690e+00,\n",
    "  6.87866000e-04,  6.66990000e-04,  6.25390000e-04,  5.16506000e-04,\n",
    "  5.37474000e-04,  5.37474000e-04,  5.37566000e-04,  5.37574000e-04,\n",
    "  5.79426000e-04,  7.84900000e-01, -5.10260000e-01, -3.01140000e-01,\n",
    "  2.56700000e+00]\n",
    "M1 = create_un_mat(minimum_x[:12])\n",
    "M2 = create_un_mat(minimum_x[12:24])\n",
    "alpha = np.reshape(np.array(minimum_x[24:33]), (3, 3))\n",
    "h_0 = minimum_x[33:36]\n",
    "power = minimum_x[36]\n",
    "\n",
    "# print(M1, M2, alpha, h_0)\n",
    "\n",
    "for i in data[0:84]:\n",
    "    x = np.zeros(3)\n",
    "    x[i[0]] = i[2] ** 2\n",
    "    h_list = h_0 + alpha.dot(np.transpose(x))\n",
    "    H = np.diag([math.e ** (1j * h) for h in h_list] + [1])\n",
    "    result = (np.abs(np.transpose(M2.dot(H).dot(M1))) ** 2)[i[1]]\n",
    "    plt.scatter(i[2], result[0], color = 'blue')\n",
    "    plt.scatter(i[2], result[1], color = 'green')\n",
    "    plt.scatter(i[2], result[2], color = 'yellow')\n",
    "    plt.scatter(i[2], result[3], color = 'red')\n",
    "\n",
    "# # plt.scatter(1000*i[2], result[0]+predict[1]+predict[2]+predict[3], color = 'black')\n",
    "\n",
    "plt.plot([d[2] for d in data[0:84]], [d[3]/sum(d[3:]) for d in data[0:84]])#, color = 'blue')\n",
    "plt.plot([d[2] for d in data[0:84]], [d[4]/sum(d[3:]) for d in data[0:84]])#, color = 'green')\n",
    "plt.plot([d[2] for d in data[0:84]], [d[5]/sum(d[3:]) for d in data[0:84]])#, color = 'yellow')\n",
    "plt.plot([d[2] for d in data[0:84]], [d[6]/sum(d[3:]) for d in data[0:84]])#, color = 'red')\n",
    "plt.plot([d[2] for d in data[0:84]], [d[6]/sum(d[3:]) for d in data[0:84]])\n",
    "\n",
    "\n"
   ]
  },
  {
   "cell_type": "code",
   "execution_count": null,
   "metadata": {},
   "outputs": [],
   "source": [
    "np.random.seed(0)\n",
    "minimum_x0 = np.random.random(36)\n",
    "\n",
    "\n",
    "M1 = create_un_mat(minimum_x0[:12])\n",
    "M2 = create_un_mat(minimum_x0[12:24])\n",
    "alpha = np.reshape(minimum_x0[24:33], (3, 3))\n",
    "h_0 = minimum_x0[33:36]\n",
    "cost = 0\n",
    "for i in data[0:84]:\n",
    "    x = np.zeros(3)\n",
    "    x[i[0]] = 10000 * i[2] ** 2\n",
    "    h_list = h_0 + alpha.dot(np.transpose(x))\n",
    "    H = np.diag([math.e ** (1j * h) for h in h_list] + [1])\n",
    "    predict = (np.abs(np.transpose(M2.dot(H).dot(M1))) ** 2)[i[1]]\n",
    "    \n",
    "    plt.scatter(1000*i[2], predict[0], color = 'blue')\n",
    "    plt.scatter(1000*i[2], predict[1], color = 'green')\n",
    "    plt.scatter(1000*i[2], predict[2], color = 'yellow')\n",
    "    plt.scatter(1000*i[2], predict[3], color = 'red')\n",
    "    plt.scatter(1000*i[2], predict[0]+predict[1]+predict[2]+predict[3], color = 'black')"
   ]
  },
  {
   "cell_type": "code",
   "execution_count": null,
   "metadata": {},
   "outputs": [],
   "source": [
    "def create_param_mat(v):\n",
    "    # Mc = np.zeros((4, 4))\n",
    "    bs_12 = 1/np.sqrt(2)*np.array([[1,1*1j,0,0],[1*1j,1,0,0],[0,0,1,0],[0,0,0,1]])\n",
    "    bs_23 = 1/np.sqrt(2)*np.array([[1,0,0,0],[0,1,1*1j,0],[0,1*1j,1,0],[0,0,0,1]])\n",
    "    bs_34 = 1/np.sqrt(2)*np.array([[1,0,0,0],[0,1,0,0],[0,0,1,1*1j],[0,0,1*1j,1]])\n",
    "    ph_1 = np.array([[1,0,0,0], [0,1,0,0], [0,0,np.exp(1j*v[0]),0], [0,0,0,1]])\n",
    "    ph_2 = np.array([[1,0,0,0], [0,1,0,0], [0,0,np.exp(1j*v[1]),0], [0,0,0,1]])\n",
    "    ph_3 = np.array([[1,0,0,0], [0,1,0,0], [0,0,np.exp(1j*v[2]),0], [0,0,0,1]])\n",
    "    ph_4 = np.array([[1,0,0,0], [0,1,0,0], [0,0,np.exp(1j*v[3]),0], [0,0,0,1]])\n",
    "    ph_5 = np.array([[1,0,0,0], [0,1,0,0], [0,0,np.exp(1j*v[4]),0], [0,0,0,1]])\n",
    "    ph_6 = np.array([[1,0,0,0], [0,np.exp(1j*v[5]),0,0], [0,0,1,0], [0,0,0,1]])\n",
    "    ph_7 = np.array([[1,0,0,0], [0,np.exp(1j*v[6]),0,0], [0,0,1,0], [0,0,0,1]])\n",
    "    ph_8 = np.array([[1,0,0,0], [0,np.exp(1j*v[7]),0,0], [0,0,1,0], [0,0,0,1]])\n",
    "    ph_9 = np.array([[np.exp(1j*v[8]),0,0,0], [0,1,0,0], [0,0,1,0], [0,0,0,1]])\n",
    "\n",
    "    return bs_34.dot(ph_5).dot(bs_34).dot(bs_23).dot(ph_8).dot(bs_23).dot(ph_4).dot(bs_12).dot(bs_34).dot(ph_9).dot(ph_3).dot(bs_12).dot(bs_34).dot(ph_7).dot(bs_23).dot(ph_6).dot(bs_23).dot(ph_2).dot(bs_34).dot(ph_1).dot(bs_34)"
   ]
  },
  {
   "cell_type": "code",
   "execution_count": null,
   "metadata": {},
   "outputs": [],
   "source": [
    "import cmath as cm\n",
    "\n",
    "def T_pq(N, p, q, phi, theta):\n",
    "    res = np.eye(N, dtype=np.complex128)\n",
    "    res[p-1][q-1] = np.exp(1j * phi) * np.sin(theta)\n",
    "    res[p][q-1] = np.exp(1j * phi) * np.cos(theta)\n",
    "    res[p-1][q] = np.cos(theta)\n",
    "    res[p][q] = - np.sin(theta)\n",
    "\n",
    "    return res\n",
    "\n",
    "def Reck_extend(N, phases, phases_last):\n",
    "    k=0\n",
    "    U=np.eye(N, dtype=np.complex128)\n",
    "    for p in range(1,N):\n",
    "        for q in range(1,p):\n",
    "            U=U.dot(T_pq(N,p,q,phases[k][0], phases[k][1]))\n",
    "            k+=1\n",
    "        D=np.eye(N,dtype=np.complex128)\n",
    "        for i in range(N-1):\n",
    "            D[i,i]=cm.exp(1j*phases_last[i])\n",
    "        U=U.dot(D)\n",
    "    return np.linalg.inv(U)\n",
    "\n",
    "def create_Reck_mat(v):\n",
    "    return Reck_extend(4, np.array(v[:6]).reshape(3,2), v[6:9])"
   ]
  },
  {
   "cell_type": "code",
   "execution_count": null,
   "metadata": {},
   "outputs": [],
   "source": [
    "minimum_x"
   ]
  },
  {
   "cell_type": "code",
   "execution_count": null,
   "metadata": {},
   "outputs": [],
   "source": [
    "minimum_x0 = np.random.random(6)\n",
    "\n",
    "def bs_matrix():\n",
    "    return 1/np.sqrt(2)*np.array([[1,1j],[1j,1]], dtype=np.complex128)\n",
    "\n",
    "M1 = bs_matrix()\n",
    "M2 = bs_matrix()\n",
    "\n",
    "alpha = np.reshape(minimum_x0[:4], (2, 2))\n",
    "\n",
    "phi_sweep = np.linspace(0, 2*np.pi, 100)\n",
    "\n",
    "h_0 = minimum_x0[4:5]\n",
    "for i in phi_sweep:\n",
    "    x = np.zeros(2)\n",
    "    # x[0] = 10000 * i[2] ** 2\n",
    "\n",
    "    # h_list = np.array(h_0 + np.asmatrix(alpha) * np.asmatrix(x).T)[0]\n",
    "    H = np.diag([np.exp(1j * i)] + [1])\n",
    "\n",
    "    predict = (abs(np.transpose((M2.dot(H).dot(M1)))**2))[0]\n",
    "    # print(predict)\n",
    "    plt.scatter(i, predict[0], color = 'blue')\n",
    "    plt.scatter(i, predict[1], color = 'green')\n",
    "    # plt.scatter(1000*i[2], predict[1], color = 'green')\n",
    "    # plt.scatter(1000*i[2], predict[2], color = 'yellow')\n",
    "    # plt.scatter(1000*i[2], predict[3], color = 'red')"
   ]
  },
  {
   "cell_type": "code",
   "execution_count": null,
   "metadata": {},
   "outputs": [],
   "source": []
  }
 ],
 "metadata": {
  "kernelspec": {
   "display_name": "base",
   "language": "python",
   "name": "python3"
  },
  "language_info": {
   "codemirror_mode": {
    "name": "ipython",
    "version": 3
   },
   "file_extension": ".py",
   "mimetype": "text/x-python",
   "name": "python",
   "nbconvert_exporter": "python",
   "pygments_lexer": "ipython3",
   "version": "3.7.16"
  }
 },
 "nbformat": 4,
 "nbformat_minor": 2
}
