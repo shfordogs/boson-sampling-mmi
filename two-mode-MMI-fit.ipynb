{
 "cells": [
  {
   "cell_type": "code",
   "execution_count": 25,
   "metadata": {},
   "outputs": [],
   "source": [
    "import numpy as np\n",
    "from  scipy.optimize import curve_fit\n",
    "from scipy.optimize import leastsq\n",
    "import matplotlib.pyplot as plt\n",
    "from scipy.linalg import expm\n",
    "from scipy.linalg import logm\n",
    "import random\n",
    "import math\n",
    "from scipy.stats import unitary_group\n",
    "from scipy.optimize import minimize"
   ]
  },
  {
   "cell_type": "code",
   "execution_count": null,
   "metadata": {},
   "outputs": [],
   "source": [
    "output_current_straight = [1.5, 2.9, 4.4, 5.9, 7.3, 8.8, 10.3, 11.7, 13.2, 14.6, 17.5, 20.3, 23.1, 25.9, 28.7, 31.4, 34.1, 36.7, 39.3, 41.9, 44.3, 46.7, 49.1, 51.5, 53.7, 55.9, 58, 60.1, 62, 63.6, 64.4, 64.4]\n",
    "laser_power_straight = [393, 393, 394, 395, 396, 398, 399, 400, 402, 403, 407, 409, 411, 411, 413, 412, 408, 399, 385, 370, 354, 334, 307, 281, 250, 209, 168, 127, 88, 60, 47, 47]"
   ]
  },
  {
   "cell_type": "code",
   "execution_count": null,
   "metadata": {},
   "outputs": [],
   "source": [
    "laser_power_straight = [x/max(laser_power_straight) for x in laser_power_straight]"
   ]
  },
  {
   "cell_type": "code",
   "execution_count": null,
   "metadata": {},
   "outputs": [],
   "source": [
    "plt.plot(output_current_straight, laser_power_straight)\n",
    "plt.title('System response on direct heating')\n",
    "plt.xlabel('Output current, mA')\n",
    "plt.ylabel('Output light power, units')"
   ]
  },
  {
   "cell_type": "code",
   "execution_count": null,
   "metadata": {},
   "outputs": [],
   "source": [
    "def phase_function(x, k0, k1, k2):\n",
    "    return k0+k1*x**k2\n",
    "\n",
    "def output_function(x, k0, k1, k2):\n",
    "    return (1+np.cos(phase_function(x, k0, k1, k2)))/2\n",
    "\n",
    "initial_guess = [0.1,0.1, 0.1]\n",
    "params, covariance = curve_fit(output_function, output_current_straight, laser_power_straight, p0=initial_guess)\n",
    "\n",
    "k0_fit, k1_fit, k2_fit = params\n",
    "plt.scatter(output_current_straight, laser_power_straight, color='red', label='initial data')\n",
    "plt.plot(output_current_straight, output_function(output_current_straight, k0_fit, k1_fit, k2_fit), label='fitted curve')\n",
    "\n",
    "plt.xlabel(\"current, mA\")\n",
    "plt.ylabel(r\"$|A_{out}|^2$\")\n",
    "\n",
    "plt.legend()\n",
    "\n",
    "print(k0_fit, k1_fit, k2_fit)\n"
   ]
  },
  {
   "cell_type": "code",
   "execution_count": null,
   "metadata": {},
   "outputs": [],
   "source": [
    "def create_un_mat(v):\n",
    "    Mc = np.zeros((2, 2),dtype=np.complex128)\n",
    "    Mc[0][1] = v[0] + 1j * v[1]\n",
    "    Mc[1][0] = v[0] - 1j * v[1]\n",
    "\n",
    "    U = expm(1j * Mc)\n",
    "    \n",
    "    return U\n",
    "\n",
    "def f(v, data):\n",
    "    M1 = create_un_mat(v[:2])\n",
    "    M2 = create_un_mat(v[2:4])\n",
    "    alpha = v[4]\n",
    "    h_0 = v[5]\n",
    "    cost = 0\n",
    "    for i in data:\n",
    "        x = np.zeros(2)\n",
    "        x[0] = 1000000 * i[0] ** v[6]\n",
    "        y = i[1]\n",
    "        y /= np.sum(y)\n",
    "        h = h_0 + alpha*x[0]\n",
    "        H = np.diag([math.e ** (1j * h)] + [1])\n",
    "        predict = (np.abs(np.transpose(M2.dot(H).dot(M1)))** 2)\n",
    "        cost += np.linalg.norm(np.array(predict)[0] - y)\n",
    "    return cost\n",
    "\n",
    "# def output_func(x_data, v):\n",
    "#     M1 = create_un_mat(v[:2])\n",
    "#     M2 = create_un_mat(v[2:4])\n",
    "#     alpha=v[4]\n",
    "#     h_0=v[5]\n",
    "#     i=x_data\n",
    "#     x = np.zeros(2)\n",
    "#     x[0] = i ** 2\n",
    "#     h = h_0 + alpha*x[0]\n",
    "#     H = np.diag([math.e ** (1j * h)] + [1])\n",
    "#     (np.abs(np.transpose(M2.dot(H).dot(M1)))** 2)[0]\n",
    "#     return (np.abs(np.transpose(M2.dot(H).dot(M1)))** 2)[0]\n",
    "\n",
    "\n",
    "def numerical_gradient(data, x, epsilon=1e-8):\n",
    "    grad = np.zeros_like(x)\n",
    "    f_0 = f(x, data)\n",
    "    for i in range(len(x)):\n",
    "        x_up = np.copy(x)\n",
    "        x_down = np.copy(x)\n",
    "        x_up[i] += epsilon\n",
    "        x_down[i] -= epsilon\n",
    "        grad[i] = (f_0 - f(x_down, data)) / (2 * epsilon)\n",
    "    return np.sign(grad)\n",
    "\n",
    "\n",
    "def gradient_descent(data, x0, learning_rate_start=0.01, learning_rate_finish=0.01, max_iter=1000, tol=1e-4):\n",
    "    x = np.array(x0, dtype=float)\n",
    "    for i in range(max_iter):\n",
    "        learning_rate = (1 - i / max_iter) * learning_rate_start + learning_rate_finish\n",
    "        learning_rate = learning_rate_start\n",
    "        grad = numerical_gradient(data, x)\n",
    "        x_new = x - learning_rate * grad\n",
    "        if i % 10 == 0:\n",
    "            print(x_new)\n",
    "            print(\"Iteration = \", i, \"difference = \", np.linalg.norm(x_new - x))\n",
    "            print(f(x, data))\n",
    "        # if f(x_new, data) - f(x, data) < tol:\n",
    "        #     print(f\"Сходимость достигнута за {i+1} итераций.\")\n",
    "        #     break\n",
    "        x = x_new\n",
    "    return x, f(x, data)"
   ]
  },
  {
   "cell_type": "code",
   "execution_count": null,
   "metadata": {},
   "outputs": [],
   "source": [
    "bs=create_un_mat2([0,1/np.sqrt(2), np.pi/2])\n",
    "print(bs.dot(np.transpose(bs.conj())))\n",
    "# print(bs*np.sqrt(2))"
   ]
  },
  {
   "cell_type": "code",
   "execution_count": null,
   "metadata": {},
   "outputs": [],
   "source": [
    "x0 = np.ones(7)\n",
    "x0[:4] = [0,1/np.sqrt(2), 0,1/np.sqrt(2)]\n",
    "x0[4]=0.00011039691180985567\n",
    "x0[5]=-0.40483904616527766\n",
    "x0[6]=2.4364279425296935\n",
    "data = zip(output_current_straight, laser_power_straight)\n",
    "\n",
    "def output_func(x_data, *args):\n",
    "    M1 = create_un_mat(args[:2])\n",
    "    M2 = create_un_mat(args[2:4])\n",
    "    alpha=args[4]\n",
    "    h_0=args[5]\n",
    "    power=args[6]\n",
    "    i=x_data\n",
    "    x = i ** power\n",
    "    h = h_0 + alpha*x\n",
    "    H = np.diag([math.e ** (1j * h)] + [1])\n",
    "    return (np.abs(np.transpose(M2.dot(H).dot(M1)))** 2)[0][1]\n",
    "\n",
    "params, covariance = curve_fit(output_func, output_current_straight, laser_power_straight, p0=x0, maxfev = 10000)\n",
    "# minimum_x, minimum_f = gradient_descent(data, x0, learning_rate_start=0.001, learning_rate_finish=0.002)"
   ]
  },
  {
   "cell_type": "code",
   "execution_count": 29,
   "metadata": {},
   "outputs": [],
   "source": [
    "def output_func_both(x_data, *args):\n",
    "    M1 = create_un_mat(args[:2])\n",
    "    M2 = create_un_mat(args[2:4])\n",
    "    alpha=args[4]\n",
    "    h_0=args[5]\n",
    "    power=args[6]\n",
    "    i=x_data\n",
    "    x = i ** power\n",
    "    h = h_0 + alpha*x\n",
    "    H = np.diag([math.e ** (1j * h)] + [1])\n",
    "    return (np.abs(np.transpose(M2.dot(H).dot(M1)))** 2)[0]"
   ]
  },
  {
   "cell_type": "code",
   "execution_count": 33,
   "metadata": {},
   "outputs": [
    {
     "name": "stdout",
     "output_type": "stream",
     "text": [
      "[-1.36860130e-02  7.38406531e-01  1.34079232e-02  7.38413411e-01\n",
      "  6.28111196e-05 -3.85230891e-01  2.56748992e+00]\n"
     ]
    },
    {
     "data": {
      "image/png": "[encoded data removed]",
      "text/plain": [
       "<Figure size 432x288 with 1 Axes>"
      ]
     },
     "metadata": {
      "needs_background": "light"
     },
     "output_type": "display_data"
    }
   ],
   "source": [
    "print(params)\n",
    "# minimum_x = params\n",
    "plt.plot(output_current_straight, laser_power_straight, color='red', label='initial data')\n",
    "for i in output_current_straight:\n",
    "    plt.scatter(i, output_func_both(i, *params)[0], color='blue')\n",
    "    plt.scatter(i, output_func_both(i, *params)[1], color='green')"
   ]
  },
  {
   "cell_type": "code",
   "execution_count": null,
   "metadata": {},
   "outputs": [],
   "source": [
    "params = np.random.random(6)\n",
    "M1=create_un_mat(params[:2])\n",
    "print(M1.dot(np.transpose(M1.conj())))"
   ]
  },
  {
   "cell_type": "code",
   "execution_count": null,
   "metadata": {},
   "outputs": [],
   "source": [
    "minimum_x0 = minimum_x#np.random.random(6)\n",
    "# minimum_x0[:4]=np.ones(4)\n",
    "M1 = create_un_mat(minimum_x0[:2])\n",
    "M2 = create_un_mat(minimum_x0[2:4])\n",
    "alpha = minimum_x0[4]#0.00011039691180985567\n",
    "h_0 = minimum_x0[5]#-0.40483904616527766\n",
    "power = minimum_x0[6]#2.4364279425296935\n",
    "\n",
    "for i in output_current_straight:\n",
    "        x = np.zeros(2)\n",
    "        x[0] = i ** power\n",
    "        h = h_0 + alpha*x[0]\n",
    "        H = np.diag([math.e ** (1j * h)] + [1])\n",
    "        predict = (np.abs(np.transpose(M2.dot(H).dot(M1)))** 2)[1]\n",
    "\n",
    "        plt.scatter(i, predict[0], color = 'blue')\n",
    "        plt.scatter(i, predict[1], color = 'green')\n",
    "\n",
    "plt.plot(output_current_straight, laser_power_straight)\n"
   ]
  },
  {
   "cell_type": "code",
   "execution_count": null,
   "metadata": {},
   "outputs": [],
   "source": [
    "bs = 1/np.sqrt(2)*np.array([[1,1j],[1j,1]])\n",
    "print(bs)"
   ]
  },
  {
   "cell_type": "code",
   "execution_count": null,
   "metadata": {},
   "outputs": [],
   "source": [
    "import numpy as np\n",
    "\n",
    "# Input: A 2D array\n",
    "array = np.zeros(3)\n",
    "# Convert the array to a matrix\n",
    "matrix = np.asmatrix(array)\n",
    "\n",
    "# Perform matrix-specific operations\n",
    "# Matrix multiplication using the `*` operator (works differently than arrays)\n",
    "result = matrix * matrix.T  # Multiply the matrix with its transpose\n",
    "\n",
    "print(\"Original array:\")\n",
    "print(array)\n",
    "print(\"\\nConverted to matrix:\")\n",
    "print(matrix)\n",
    "print(\"\\nMatrix multiplication result (matrix * matrix.T):\")\n",
    "print(result)\n"
   ]
  },
  {
   "cell_type": "code",
   "execution_count": 32,
   "metadata": {},
   "outputs": [
    {
     "data": {
      "image/png": "[encoded data removed]",
      "text/plain": [
       "<Figure size 720x432 with 1 Axes>"
      ]
     },
     "metadata": {
      "needs_background": "light"
     },
     "output_type": "display_data"
    }
   ],
   "source": [
    "import numpy as np\n",
    "import matplotlib.pyplot as plt\n",
    "from scipy.optimize import leastsq\n",
    "\n",
    "# Generate synthetic data for two Gaussian curves\n",
    "def gaussian(x, amp, mean, std):\n",
    "    return amp * np.exp(-0.5 * ((x - mean) / std)**2)\n",
    "\n",
    "x = np.linspace(0, 10, 100)\n",
    "\n",
    "# True parameters for two datasets\n",
    "params_true = [\n",
    "    (3, 4, 1),  # Dataset 1: amplitude, mean, std\n",
    "    (5, 7, 0.8) # Dataset 2: amplitude, mean, std\n",
    "]\n",
    "\n",
    "y1 = gaussian(x, *params_true[0]) + np.random.normal(0, 0.2, len(x))\n",
    "y2 = gaussian(x, *params_true[1]) + np.random.normal(0, 0.2, len(x))\n",
    "\n",
    "# Combine datasets\n",
    "data = [y1, y2]\n",
    "\n",
    "# Define residual function for leastsq\n",
    "def residuals(params, x, data):\n",
    "    n_datasets = len(data)\n",
    "    n_params = len(params) // n_datasets\n",
    "    residuals = []\n",
    "    for i in range(n_datasets):\n",
    "        amp, mean, std = params[i*n_params:(i+1)*n_params]\n",
    "        model = gaussian(x, amp, mean, std)\n",
    "        residuals.extend(data[i] - model)\n",
    "    return residuals\n",
    "\n",
    "# Initial guesses for parameters\n",
    "initial_guess = [2, 3, 1,  # Initial guess for dataset 1\n",
    "                 4, 6, 1]  # Initial guess for dataset 2\n",
    "\n",
    "# Perform the fit\n",
    "result, _ = leastsq(residuals, initial_guess, args=(x, data))\n",
    "\n",
    "# Extract fitted parameters\n",
    "fit_params = np.reshape(result, (2, 3))\n",
    "\n",
    "# Plot the results\n",
    "plt.figure(figsize=(10, 6))\n",
    "plt.plot(x, y1, 'b.', label=\"Data 1\")\n",
    "plt.plot(x, y2, 'r.', label=\"Data 2\")\n",
    "\n",
    "for i, (amp, mean, std) in enumerate(fit_params):\n",
    "    plt.plot(x, gaussian(x, amp, mean, std), label=f\"Fit {i+1}\")\n",
    "\n",
    "plt.legend()\n",
    "plt.xlabel(\"X\")\n",
    "plt.ylabel(\"Y\")\n",
    "plt.title(\"Fitting Multiple Gaussian Curves with scipy.leastsq\")\n",
    "plt.show()\n"
   ]
  },
  {
   "cell_type": "code",
   "execution_count": null,
   "metadata": {},
   "outputs": [],
   "source": []
  }
 ],
 "metadata": {
  "kernelspec": {
   "display_name": "base",
   "language": "python",
   "name": "python3"
  },
  "language_info": {
   "codemirror_mode": {
    "name": "ipython",
    "version": 3
   },
   "file_extension": ".py",
   "mimetype": "text/x-python",
   "name": "python",
   "nbconvert_exporter": "python",
   "pygments_lexer": "ipython3",
   "version": "3.7.16"
  }
 },
 "nbformat": 4,
 "nbformat_minor": 2
}
