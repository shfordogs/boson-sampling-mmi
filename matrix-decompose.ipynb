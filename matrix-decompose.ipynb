{
 "cells": [
  {
   "cell_type": "code",
   "execution_count": 2,
   "metadata": {},
   "outputs": [],
   "source": [
    "import numpy as np\n",
    "import cmath\n",
    "\n",
    "#визуализация матриц\n",
    "import matplotlib.pyplot as plt\n",
    "import seaborn as sns; sns.set()\n",
    "\n",
    "#генерация случайных унитарных матриц\n",
    "from scipy.stats import unitary_group\n",
    "\n",
    "pi = np.pi"
   ]
  },
  {
   "cell_type": "code",
   "execution_count": 3,
   "metadata": {},
   "outputs": [],
   "source": [
    "#Класс отдельного ИМЦ с функция, возвращающими его матрицы преобразования\n",
    "\n",
    "class MZI:\n",
    "    def __init__(self, N, m, theta, phi):\n",
    "        self.N = N\n",
    "        self.m = m\n",
    "        self.theta = theta\n",
    "        self.phi = phi\n",
    "        \n",
    "    def t_mn(self):\n",
    "        m = self.m\n",
    "        \n",
    "        res = np.eye(self.N, dtype=complex)\n",
    "        res[m-1][m-1] = np.exp(1j * self.phi) * np.sin(self.theta)#np.exp(1j * self.phi) * np.cos(self.theta)\n",
    "        res[m][m-1] = np.exp(1j * self.phi) * np.cos(self.theta)#np.exp(1j * self.phi) * np.sin(self.theta)\n",
    "        res[m-1][m] = np.cos(self.theta)#- np.sin(self.theta)\n",
    "        res[m][m] = - np.sin(self.theta)#np.cos(self.theta)\n",
    "    \n",
    "        return res\n",
    "    \n",
    "    def t_mn_inverse(self):\n",
    "        return np.linalg.inv(self.t_mn())\n",
    "    \n",
    "    def show(self):\n",
    "        print(self.m, ', theta: ', round(self.theta.real, 3), ', phi: ', round(self.phi.real, 3))"
   ]
  },
  {
   "cell_type": "code",
   "execution_count": 9,
   "metadata": {},
   "outputs": [],
   "source": [
    "#Функция декомпозиции\n",
    "\n",
    "def decompose(U):\n",
    "    N = U.shape[0]\n",
    "    R = U\n",
    "    mzi_lines = []\n",
    "    \n",
    "    for k in range(1, N):\n",
    "        mzi_line = {'line index': k, 'mzis': []}\n",
    "        for z in range(1, k + 1):\n",
    "            \n",
    "            if k % 2 == 1:\n",
    "                i = N - z + 1\n",
    "                j = k - z + 1\n",
    "                m = k - z + 1\n",
    "            else:\n",
    "                i = N - k + z\n",
    "                j = z\n",
    "                m = N - k + z - 1\n",
    "                \n",
    "            if k % 2 == 1:\n",
    "                theta = cmath.atan(abs(R[i - 1][m - 1] / R[i - 1][m]))\n",
    "                phi = cmath.phase(R[i - 1][m - 1] / R[i - 1][m])\n",
    "                mzi_line['mzis'].append(MZI(N, m, theta, phi))\n",
    "                R = R @ MZI(N, m, theta, phi).t_mn_inverse()\n",
    "            else:\n",
    "                theta = cmath.atan(abs(R[i - 1][j - 1] / R[i - 2][j - 1]))\n",
    "                phi = cmath.phase((-1) * R[i - 1][j - 1] / R[i - 2][j - 1])\n",
    "                mzi_line['mzis'].append(MZI(N, m, theta, phi))\n",
    "                R = MZI(N, m, theta, phi).t_mn() @ R\n",
    "            \n",
    "        mzi_lines.append(mzi_line)\n",
    "        \n",
    "    #Здесь мы нашли параметры theta и phi, которые приводят матрицу U к диагональному виду (прошли шаг 5 из статьи).\n",
    "    #Можно проверить, что полученная с помощью преобразований матрица R является диагональной\n",
    "    #Надейнные параметры еще отличаются от тех, которые будут давать нужное преобразование\n",
    "    \n",
    "    D = R #Здесь в итоге должна получиться матрица D'\n",
    "    final_mzi_lines = [] #Набор линий, его потом вернет функция\n",
    "    \n",
    "    #Нечетные линии добавляются без изменения параметров\n",
    "\n",
    "    for line_index in range(0, len(mzi_lines), 2):\n",
    "        final_mzi_line = mzi_lines[line_index]   \n",
    "        final_mzi_lines.append(final_mzi_line)\n",
    "        \n",
    "    #Поиск новых параметров четных линий и матрицы D', добавление четных линий\n",
    "    \n",
    "    if N % 2 == 1:\n",
    "        start = N // 2 * 2 - 1\n",
    "    else:\n",
    "        start = N // 2 * 2 - 3\n",
    "    \n",
    "    for line_index in range(start, 0, -2):\n",
    "        final_mzi_line = {'line index': line_index + 1, 'mzis': []}\n",
    "        for mzi in mzi_lines[line_index]['mzis'][::-1]:\n",
    "            theta_old = mzi.theta\n",
    "            phi_old = mzi.phi\n",
    "            m = mzi.m\n",
    "            \n",
    "            theta_new = theta_old\n",
    "            phi_new = pi + cmath.phase(D[m-1][m-1]) - cmath.phase(D[m][m])\n",
    "            \n",
    "            final_mzi_line['mzis'].append(MZI(N, m, theta_new, phi_new))\n",
    "            D = MZI(N, m, theta_old, phi_old).t_mn_inverse() @ D @ MZI(N, m, theta_new, phi_new).t_mn_inverse()\n",
    "            \n",
    "        final_mzi_lines.append(final_mzi_line)\n",
    "        \n",
    "    #Вывод параметров    \n",
    "    \n",
    "    for i in final_mzi_lines:\n",
    "        print('Line', i['line index'], '\\n')\n",
    "        for j in i['mzis']:\n",
    "            j.show()\n",
    "        print('\\n')\n",
    "        \n",
    "    print('D\\' :\\n', D)\n",
    "        \n",
    "    return [final_mzi_lines, D]"
   ]
  },
  {
   "cell_type": "code",
   "execution_count": null,
   "metadata": {},
   "outputs": [
    {
     "name": "stdout",
     "output_type": "stream",
     "text": [
      "Line 1 \n",
      "\n",
      "1 , theta:  0.196 , phi:  -1.731\n",
      "\n",
      "\n",
      "Line 3 \n",
      "\n",
      "3 , theta:  0.926 , phi:  2.485\n",
      "2 , theta:  0.0 , phi:  3.108\n",
      "1 , theta:  0.0 , phi:  1.7\n",
      "\n",
      "\n",
      "Line 2 \n",
      "\n",
      "3 , theta:  0.0 , phi:  0.257\n",
      "2 , theta:  1.209 , phi:  1.036\n",
      "\n",
      "\n",
      "D' :\n",
      " [[ 1.33785218e-01-9.16203200e-02j  1.96045231e-01-1.00294871e-01j\n",
      "   3.00768306e-01+6.19062580e-02j -1.22435858e-01-9.03288404e-01j]\n",
      " [-1.71251612e-01-7.58233819e-02j -3.16524291e-01-3.44167744e-01j\n",
      "   8.09536139e-01+1.28271007e-01j  1.79121475e-01+2.05907559e-01j]\n",
      " [ 2.26030486e-01+4.50613310e-01j  1.89625057e-02+6.57466448e-01j\n",
      "   3.70255327e-01+2.85569704e-01j -2.90470509e-01+1.01113690e-01j]\n",
      " [ 2.27790559e-01-7.95361715e-01j -3.47157851e-01+4.23943231e-01j\n",
      "  -1.38448973e-03+1.23542908e-01j  5.45722961e-18+1.27116327e-17j]]\n",
      "[{'line index': 1, 'mzis': [<__main__.MZI object at 0x000002BEA9F73848>]}, {'line index': 3, 'mzis': [<__main__.MZI object at 0x000002BEA9F73C88>, <__main__.MZI object at 0x000002BEA9F73F48>, <__main__.MZI object at 0x000002BEA9F73708>]}, {'line index': 2, 'mzis': [<__main__.MZI object at 0x000002BEA9F73408>, <__main__.MZI object at 0x000002BEA9F73248>]}]\n"
     ]
    },
    {
     "data": {
      "image/png": "[encoded data removed]",
      "text/plain": [
       "<Figure size 432x288 with 2 Axes>"
      ]
     },
     "metadata": {
      "needs_background": "light"
     },
     "output_type": "display_data"
    }
   ],
   "source": [
    "#Функция для обратной композиции\n",
    "\n",
    "def compose_back(N, lines, D):\n",
    "    res = np.eye(N)\n",
    "    for i in lines:\n",
    "        for mzi in i['mzis']:\n",
    "            res = mzi.t_mn() @ res\n",
    "            \n",
    "    res = D @ res\n",
    "    return res\n",
    "    \n",
    "def plot_matrix(matrix, title):\n",
    "    ax = sns.heatmap(matrix, annot=True)\n",
    "    plt.title(title,fontsize=12)\n",
    "    plt.show()\n",
    "\n",
    "N = 4\n",
    "U = unitary_group.rvs(N)\n",
    "a = decompose(U)\n",
    "lines = a[0]\n",
    "print(lines)\n",
    "D = a[1]\n",
    "\n",
    "B = compose_back(N, lines, D)\n",
    "plot_matrix(np.abs(B - U), 'title')"
   ]
  },
  {
   "cell_type": "code",
   "execution_count": 5,
   "metadata": {},
   "outputs": [
    {
     "data": {
      "text/plain": [
       "array([[-0.0253191 -0.00264256j,  0.23253852+0.16794591j,\n",
       "        -0.26008151+0.02471263j, -0.51130048+0.76641417j],\n",
       "       [ 0.67773374-0.48005368j,  0.04181781-0.01164386j,\n",
       "         0.02120302+0.53504427j, -0.12256297-0.08122504j],\n",
       "       [ 0.15956702+0.16916359j, -0.84236232-0.2645638j ,\n",
       "         0.2285597 +0.01986998j, -0.12403584+0.31358337j],\n",
       "       [-0.27456394-0.4243985j , -0.34364533-0.13481585j,\n",
       "        -0.76886014+0.03528027j,  0.10578964-0.06819881j]])"
      ]
     },
     "execution_count": 5,
     "metadata": {},
     "output_type": "execute_result"
    }
   ],
   "source": [
    "B"
   ]
  },
  {
   "cell_type": "code",
   "execution_count": 6,
   "metadata": {},
   "outputs": [
    {
     "data": {
      "text/plain": [
       "array([[-0.0253191 -0.00264256j,  0.23253852+0.16794591j,\n",
       "        -0.26008151+0.02471263j, -0.51130048+0.76641417j],\n",
       "       [ 0.67773374-0.48005368j,  0.04181781-0.01164386j,\n",
       "         0.02120302+0.53504427j, -0.12256297-0.08122504j],\n",
       "       [ 0.15956702+0.16916359j, -0.84236232-0.2645638j ,\n",
       "         0.2285597 +0.01986998j, -0.12403584+0.31358337j],\n",
       "       [-0.27456394-0.4243985j , -0.34364533-0.13481585j,\n",
       "        -0.76886014+0.03528027j,  0.10578964-0.06819881j]])"
      ]
     },
     "execution_count": 6,
     "metadata": {},
     "output_type": "execute_result"
    }
   ],
   "source": [
    "U"
   ]
  },
  {
   "cell_type": "code",
   "execution_count": null,
   "metadata": {},
   "outputs": [],
   "source": []
  }
 ],
 "metadata": {
  "kernelspec": {
   "display_name": "base",
   "language": "python",
   "name": "python3"
  },
  "language_info": {
   "codemirror_mode": {
    "name": "ipython",
    "version": 3
   },
   "file_extension": ".py",
   "mimetype": "text/x-python",
   "name": "python",
   "nbconvert_exporter": "python",
   "pygments_lexer": "ipython3",
   "version": "3.7.16"
  }
 },
 "nbformat": 4,
 "nbformat_minor": 2
}
