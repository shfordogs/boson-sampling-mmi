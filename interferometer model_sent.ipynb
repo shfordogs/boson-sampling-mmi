{
 "cells": [
  {
   "cell_type": "code",
   "execution_count": 1,
   "metadata": {},
   "outputs": [],
   "source": [
    "from scipy.linalg import expm\n",
    "from pylab import *\n",
    "import pandas as pd\n",
    "from pandas import DataFrame\n",
    "#from openpyxl import load_workbook\n",
    "import numpy as np\n",
    "import random\n",
    "from scipy.optimize import basinhopping as bh\n",
    "from numpy import diagonal, absolute, multiply\n",
    "from numpy.random import randn\n",
    "import math as m\n",
    "import cmath as cm\n",
    "from scipy import linalg\n",
    "import matplotlib.pyplot as plt"
   ]
  },
  {
   "cell_type": "code",
   "execution_count": 2,
   "metadata": {},
   "outputs": [],
   "source": [
    "def T_pq(N, p, q, phi, theta):\n",
    "    T = np.eye(N,dtype=np.complex)\n",
    "    T[q,q]=cm.exp(1j*phi)*m.sin(theta)*1j*cm.exp(1j*theta*0.5) #with coefficient\n",
    "    T[q,p]=cm.exp(1j*phi)*m.cos(theta)*1j*cm.exp(1j*theta*0.5)\n",
    "    T[p,q]=m.cos(theta)*1j*cm.exp(1j*theta*0.5)\n",
    "    T[p,p]=-m.sin(theta)*1j*cm.exp(1j*theta*0.5)\n",
    "    return T"
   ]
  },
  {
   "cell_type": "code",
   "execution_count": 3,
   "metadata": {},
   "outputs": [],
   "source": [
    "def Is_unitary(m):\n",
    "    return np.allclose(np.eye(m.shape[0]), m.H * m)"
   ]
  },
  {
   "cell_type": "code",
   "execution_count": 4,
   "metadata": {},
   "outputs": [],
   "source": [
    "#this decomposition is for 2 modes only\n",
    "#make sure the matrix \"weights\" is unitary\n",
    "\n",
    "def Decomposition_2mods(weights):\n",
    "    phases=[]\n",
    "    for i in range(2):\n",
    "        theta=cm.atan(1j*cm.sqrt(weights[0,0]*weights[1,1]/(weights[0,1]*weights[1,0]))).real\n",
    "        phi=cm.phase(weights[1,1])-cm.phase(weights[1,0])\n",
    "    phases.append(phi.real)\n",
    "    phases.append(theta.real)\n",
    "    return phases"
   ]
  },
  {
   "cell_type": "code",
   "execution_count": 5,
   "metadata": {},
   "outputs": [],
   "source": [
    "#random unitary matrix under Haar distribution\n",
    "\n",
    "def Haar_Random_U(n):\n",
    "    \"\"\"A Random matrix distributed with Haar measure\"\"\"\n",
    "    z = (np.random.randn(n, n) + 1j * np.random.randn(n, n)) / m.sqrt(2.0)\n",
    "    q, r = linalg.qr(z)\n",
    "    d = np.diagonal(r)\n",
    "    ph = d / abs(d)\n",
    "    q = np.multiply(q, ph, q)\n",
    "    return q"
   ]
  },
  {
   "cell_type": "code",
   "execution_count": 6,
   "metadata": {},
   "outputs": [],
   "source": [
    "#fidelity\n",
    "\n",
    "def h_product(x, y):\n",
    "    #x = np.matrix(x)\n",
    "    xH = x.getH()\n",
    "    C = np.matrix(xH)*np.matrix(y)\n",
    "    #C = x * y\n",
    "    return (np.trace(C))\n",
    "\n",
    "def FM(x, y):\n",
    "    return (h_product(x, y) * h_product(y, x)) / (h_product(x, x) * h_product(y, y))"
   ]
  },
  {
   "cell_type": "code",
   "execution_count": 7,
   "metadata": {},
   "outputs": [],
   "source": [
    "#phase decomposition\n",
    "\n",
    "def Reck_decomposition_extand(weights, N):\n",
    "    reck=weights\n",
    "    phases=[]\n",
    "    for i in range(1,N):\n",
    "        for j in range(0, i):\n",
    "            phi=cm.phase(reck[j,i])-cm.phase(reck[j,j])\n",
    "            theta=m.atan(abs(reck[j,j])/abs(reck[j,i]))\n",
    "            reck=reck.dot(T_pq(N,i,j,phi,theta))\n",
    "            phases.append([phi,theta])\n",
    "    phases=np.reshape(phases,[N*(N-1)//2,2])\n",
    "    global_phase=cm.phase(reck[N-1,N-1])\n",
    "    D=np.eye(N, dtype=complex)\n",
    "    for i in range(N-1):\n",
    "        D[i,i]=cm.exp(1j*(-cm.phase(reck[i,i])+global_phase))\n",
    "    phases_last=[]\n",
    "    for i in range(N-1):\n",
    "        phases_last.append(cm.phase(D[i,i]))\n",
    "    phases_last=np.array(phases_last)\n",
    "    return phases, phases_last"
   ]
  },
  {
   "cell_type": "code",
   "execution_count": 8,
   "metadata": {},
   "outputs": [],
   "source": [
    "#create Reck matrix\n",
    "\n",
    "def Reck_extand(N, phases, phases_last):\n",
    "    k=0\n",
    "    U=np.eye(N, dtype=np.complex128)\n",
    "    for p in range(1, N):\n",
    "        for q in range(0, p):\n",
    "            U=U.dot(T_pq(N, p, q, phases[k, 0], phases[k, 1])) #be aware of precise phase sequence!!!\n",
    "            k+=1\n",
    "    D=np.eye(N, dtype=np.complex128)\n",
    "    for i in range(N-1):\n",
    "        D[i,i]=cm.exp(1j*phases_last[i])\n",
    "    U=U.dot(D)\n",
    "#    return U\n",
    "    return linalg.inv(U)"
   ]
  },
  {
   "cell_type": "code",
   "execution_count": 24,
   "metadata": {},
   "outputs": [
    {
     "name": "stdout",
     "output_type": "stream",
     "text": [
      "True\n"
     ]
    }
   ],
   "source": [
    "#random example\n",
    "\n",
    "N=4\n",
    "U=Haar_Random_U(N)\n",
    "U=np.matrix(U)\n",
    "print(Is_unitary(U))"
   ]
  },
  {
   "cell_type": "code",
   "execution_count": 25,
   "metadata": {},
   "outputs": [
    {
     "name": "stdout",
     "output_type": "stream",
     "text": [
      "[[-0.08185055+0.25976322j  0.51390768+0.17049706j  0.00429379+0.27181695j\n",
      "   0.35518796+0.65771713j]\n",
      " [ 0.27193451+0.01022264j  0.53318079-0.41997782j -0.07525856+0.31996634j\n",
      "  -0.59078623-0.09062737j]\n",
      " [-0.59943178+0.50777102j  0.03566116-0.44415636j -0.20797033-0.36390859j\n",
      "  -0.09187076+0.01349766j]\n",
      " [ 0.08793447-0.47632797j  0.07749128-0.20399766j -0.78538939-0.15980358j\n",
      "   0.24031587+0.13279254j]]\n"
     ]
    }
   ],
   "source": [
    "print(U)"
   ]
  },
  {
   "cell_type": "code",
   "execution_count": 26,
   "metadata": {},
   "outputs": [
    {
     "name": "stdout",
     "output_type": "stream",
     "text": [
      "[[ 0.04335711-0.26888028j -0.53318555-0.09425245j -0.04362469-0.26832774j\n",
      "  -0.44672015-0.5993258j ]\n",
      " [-0.27054696+0.02927841j -0.46671745+0.4927859j   0.02811346-0.32749343j\n",
      "   0.597683  +0.0040884j ]\n",
      " [ 0.51955163-0.58925035j  0.02905679+0.44463726j  0.25849345+0.3299428j\n",
      "   0.08894637-0.02666395j]\n",
      " [-0.01800466+0.48404198j -0.04712219+0.21307145j  0.80025451+0.04434414j\n",
      "  -0.25701767-0.09657896j]]\n",
      "[[-0.08185055+0.25976322j  0.51390768+0.17049706j  0.00429379+0.27181695j\n",
      "   0.35518796+0.65771713j]\n",
      " [ 0.27193451+0.01022264j  0.53318079-0.41997782j -0.07525856+0.31996634j\n",
      "  -0.59078623-0.09062737j]\n",
      " [-0.59943178+0.50777102j  0.03566116-0.44415636j -0.20797033-0.36390859j\n",
      "  -0.09187076+0.01349766j]\n",
      " [ 0.08793447-0.47632797j  0.07749128-0.20399766j -0.78538939-0.15980358j\n",
      "   0.24031587+0.13279254j]]\n",
      "(1.0000000000000002+0j)\n"
     ]
    },
    {
     "name": "stderr",
     "output_type": "stream",
     "text": [
      "c:\\Users\\nikab\\anaconda3\\lib\\site-packages\\ipykernel_launcher.py:2: DeprecationWarning: `np.complex` is a deprecated alias for the builtin `complex`. To silence this warning, use `complex` by itself. Doing this will not modify any behavior and is safe. If you specifically wanted the numpy scalar type, use `np.complex128` here.\n",
      "Deprecated in NumPy 1.20; for more details and guidance: https://numpy.org/devdocs/release/1.20.0-notes.html#deprecations\n",
      "  \n"
     ]
    }
   ],
   "source": [
    "#fidelity check\n",
    "\n",
    "phases_dec, phases_last=Reck_decomposition_extand(U, N)\n",
    "# print(phases_dec)\n",
    "\n",
    "# phases_last = np.zeros(3)\n",
    "\n",
    "# print(phases_last)\n",
    "\n",
    "\n",
    "U_reck=Reck_extand(N, phases_dec, phases_last)\n",
    "U_reck=np.matrix(U_reck)\n",
    "\n",
    "Is_unitary(U_reck)\n",
    "print(U_reck)\n",
    "print(U)\n",
    "print(FM(U, U_reck))\n",
    "\n",
    "# print(\"Fidelity: \", FM(U, U_reck).real)\n",
    "\n",
    "#phase_dec contains phases of previously created random matrix decomposition\n",
    "#phases_last is an array of D matrix elements"
   ]
  },
  {
   "cell_type": "code",
   "execution_count": null,
   "metadata": {},
   "outputs": [],
   "source": []
  },
  {
   "cell_type": "code",
   "execution_count": null,
   "metadata": {},
   "outputs": [],
   "source": []
  },
  {
   "cell_type": "code",
   "execution_count": null,
   "metadata": {},
   "outputs": [],
   "source": [
    "N=3\n",
    "U=Haar_Random_U(N)\n",
    "U=np.matrix(U)\n",
    "phases_dec=Reck_decomposition(U, N)\n",
    "phases_dec=np.reshape(phases_dec, [N*(N-1)//2,2])\n",
    "#print(phases_dec)\n",
    "diag=U\n",
    "k=0\n",
    "for i in range(1,N):\n",
    "    for j in range(0,i):\n",
    "        diag=diag.dot(T_pq(N,i,j,phases_dec[k,0],phases_dec[k,1]))\n",
    "        k+=1\n",
    "global_phase=cm.phase(diag[N-1,N-1])\n",
    "D=np.eye(N, dtype=complex)\n",
    "for i in range(N-1):\n",
    "    D[i,i]=cm.exp(1j*(-cm.phase(diag[i,i])+global_phase))\n",
    "diag=diag.dot(D)\n",
    "print(diag)"
   ]
  },
  {
   "cell_type": "code",
   "execution_count": null,
   "metadata": {},
   "outputs": [],
   "source": []
  },
  {
   "cell_type": "code",
   "execution_count": 11,
   "metadata": {},
   "outputs": [
    {
     "name": "stdout",
     "output_type": "stream",
     "text": [
      "[[-0.86605882  0.14698257]\n",
      " [-2.00119173  0.76927617]\n",
      " [-0.62018982  1.30099586]]\n",
      "[ 1.32614421 -2.80220425]\n"
     ]
    },
    {
     "name": "stderr",
     "output_type": "stream",
     "text": [
      "c:\\Users\\nikab\\anaconda3\\lib\\site-packages\\ipykernel_launcher.py:2: DeprecationWarning: `np.complex` is a deprecated alias for the builtin `complex`. To silence this warning, use `complex` by itself. Doing this will not modify any behavior and is safe. If you specifically wanted the numpy scalar type, use `np.complex128` here.\n",
      "Deprecated in NumPy 1.20; for more details and guidance: https://numpy.org/devdocs/release/1.20.0-notes.html#deprecations\n",
      "  \n"
     ]
    }
   ],
   "source": [
    "N=3\n",
    "U=Haar_Random_U(N)\n",
    "U=np.matrix(U)\n",
    "phases_dec, phases_last=Reck_decomposition_extand(U, N)\n",
    "print(phases_dec)\n",
    "print(phases_last)"
   ]
  },
  {
   "cell_type": "code",
   "execution_count": 12,
   "metadata": {},
   "outputs": [
    {
     "name": "stdout",
     "output_type": "stream",
     "text": [
      "[[-6.34345500e-01-7.73049667e-01j  4.70185468e-17-7.09192007e-18j\n",
      "   1.49814317e-16-1.57309029e-17j]\n",
      " [ 1.12833172e-16-2.35573224e-16j -6.34345500e-01-7.73049667e-01j\n",
      "   1.04083409e-16+5.55111512e-17j]\n",
      " [-6.21870356e-17-2.49093808e-16j -8.67836878e-17-1.18942593e-16j\n",
      "  -6.34345500e-01-7.73049667e-01j]]\n"
     ]
    },
    {
     "name": "stderr",
     "output_type": "stream",
     "text": [
      "c:\\Users\\nikab\\anaconda3\\lib\\site-packages\\ipykernel_launcher.py:2: DeprecationWarning: `np.complex` is a deprecated alias for the builtin `complex`. To silence this warning, use `complex` by itself. Doing this will not modify any behavior and is safe. If you specifically wanted the numpy scalar type, use `np.complex128` here.\n",
      "Deprecated in NumPy 1.20; for more details and guidance: https://numpy.org/devdocs/release/1.20.0-notes.html#deprecations\n",
      "  \n"
     ]
    }
   ],
   "source": [
    "phases_dec, phases_last=Reck_decomposition_extand(U, N)\n",
    "#phases_dec=np.reshape(phases_dec, [N*(N-1)//2,2])\n",
    "diag=U\n",
    "k=0\n",
    "for i in range(1,N):\n",
    "    for j in range(0,i):\n",
    "        diag=diag.dot(T_pq(N,i,j,phases_dec[k,0],phases_dec[k,1]))\n",
    "        k+=1\n",
    "#global_phase=cm.phase(diag[N-1,N-1])\n",
    "D=np.eye(N, dtype=complex)\n",
    "for i in range(N-1):\n",
    "    D[i,i]=cm.exp(1j*phases_last[i])\n",
    "diag=diag.dot(D)\n",
    "print(diag)"
   ]
  },
  {
   "cell_type": "code",
   "execution_count": null,
   "metadata": {},
   "outputs": [],
   "source": []
  },
  {
   "cell_type": "code",
   "execution_count": null,
   "metadata": {},
   "outputs": [],
   "source": []
  },
  {
   "cell_type": "code",
   "execution_count": null,
   "metadata": {},
   "outputs": [],
   "source": []
  },
  {
   "cell_type": "code",
   "execution_count": null,
   "metadata": {},
   "outputs": [],
   "source": []
  },
  {
   "cell_type": "code",
   "execution_count": null,
   "metadata": {},
   "outputs": [],
   "source": []
  },
  {
   "cell_type": "code",
   "execution_count": null,
   "metadata": {},
   "outputs": [],
   "source": []
  },
  {
   "cell_type": "code",
   "execution_count": null,
   "metadata": {},
   "outputs": [],
   "source": [
    "#джаст ин кейс\n",
    "def Decomposition_2mods_3(weights):\n",
    "    phases1=[]\n",
    "    phases2=[]\n",
    "    phases3=[]\n",
    "    phases4=[]\n",
    "    a=weights[0,0]\n",
    "    b=weights[0,1]\n",
    "    c=weights[1,0]\n",
    "    d=weights[1,1]\n",
    "    for i in range(1):\n",
    "        theta=cm.atan((-1)*(cm.sqrt(a)*cm.sqrt(d)/cm.sqrt(-b*c+a*d))/((-1)*(cm.sqrt(b)*cm.sqrt(c)/cm.sqrt(b*c-a*d))))\n",
    "        phi=-1j*cm.log(((cm.sqrt(a)*b**1.5*c**1.5*cm.sqrt(d))/(cm.sqrt(b*c-a*d)*cm.sqrt(-b*c+a*d))-(a**1.5*cm.sqrt(b)*cm.sqrt(c)*d**1.5)/(cm.sqrt(b*c-a*d)*cm.sqrt(-b*c+a*d)))/(a*c))\n",
    "        phases1.append(phi.real)\n",
    "        phases1.append(theta.real)\n",
    "        phases1=np.reshape(phases1, [1,2])\n",
    "        theta=cm.atan((cm.sqrt(a)*cm.sqrt(d)/cm.sqrt(-b*c+a*d))/(cm.sqrt(b)*cm.sqrt(c)/cm.sqrt(b*c-a*d)))\n",
    "        phi=-1j*cm.log(((cm.sqrt(a)*b**1.5*c**1.5*cm.sqrt(d))/(cm.sqrt(b*c-a*d)*cm.sqrt(-b*c+a*d))-(a**1.5*cm.sqrt(b)*cm.sqrt(c)*d**1.5)/(cm.sqrt(b*c-a*d)*cm.sqrt(-b*c+a*d)))/(a*c))\n",
    "        phases2.append(phi.real)\n",
    "        phases2.append(theta.real)\n",
    "        phases2=np.reshape(phases2, [1,2])\n",
    "        theta=cm.atan((cm.sqrt(a)*cm.sqrt(d)/cm.sqrt(-b*c+a*d))/((-1)*(cm.sqrt(b)*cm.sqrt(c)/cm.sqrt(b*c-a*d))))\n",
    "        phi=-1j*cm.log((-((cm.sqrt(a)*b**1.5*c**1.5*cm.sqrt(d))/(cm.sqrt(b*c-a*d)*cm.sqrt(-b*c+a*d)))+(a**1.5*cm.sqrt(b)*cm.sqrt(c)*d**1.5)/(cm.sqrt(b*c-a*d)*cm.sqrt(-b*c+a*d)))/(a*c))\n",
    "        phases3.append(phi.real)\n",
    "        phases3.append(theta.real)\n",
    "        phases3=np.reshape(phases3, [1,2])\n",
    "        theta=cm.atan((-1)*(cm.sqrt(a)*cm.sqrt(d)/cm.sqrt(-b*c+a*d))/(cm.sqrt(b)*cm.sqrt(c)/cm.sqrt(b*c-a*d)))\n",
    "        phi=-1j*cm.log((-((cm.sqrt(a)*b**1.5*c**1.5*cm.sqrt(d))/(cm.sqrt(b*c-a*d)*cm.sqrt(-b*c+a*d)))+(a**1.5*cm.sqrt(b)*cm.sqrt(c)*d**1.5)/(cm.sqrt(b*c-a*d)*cm.sqrt(-b*c+a*d)))/(a*c))\n",
    "        phases4.append(phi.real)\n",
    "        phases4.append(theta.real)\n",
    "        phases4=np.reshape(phases4, [1,2])\n",
    "        weights_1=weights.dot(T_pq(2, 1, 0, phases1[0,0], phases1[0,1]))\n",
    "        weights_2=weights.dot(T_pq(2, 1, 0, phases2[0,0], phases2[0,1]))\n",
    "        weights_3=weights.dot(T_pq(2, 1, 0, phases3[0,0], phases3[0,1]))\n",
    "        weights_4=weights.dot(T_pq(2, 1, 0, phases1[0,0], phases4[0,1]))\n",
    "        if abs(weights_1[0,1])<10**(-15):\n",
    "            return phases1\n",
    "        elif abs(weights_2[0,1])<10**(-15):\n",
    "            return phases2\n",
    "        elif abs(weights_3[0,1])<10**(-15):\n",
    "            return phases3\n",
    "        elif abs(weights_4[0,1])<10**(-15):\n",
    "            return phases4\n",
    "\n",
    "def Reck_decomposition_2mods(weights): #works\n",
    "    theta=m.atan(abs(weights[0,0])/abs(weights[0,1]))\n",
    "    phi=cm.phase(weights[0,1])-cm.phase(weights[0,0])\n",
    "    phases=[phi, theta]\n",
    "    return phases        \n",
    "        \n",
    "def Reck(N, phases):\n",
    "    k=0\n",
    "    U=np.eye(N, dtype=np.complex)\n",
    "    for p in range(1, N):\n",
    "        for q in range(0, p):\n",
    "            U=U.dot(T_pq(N, p, q, phases[k, 0], phases[k, 1])) #be aware of precise phase sequence!!!\n",
    "            k+=1\n",
    "#    return U\n",
    "    return linalg.inv(U)\n",
    "\n",
    "def Reck_decomposition(weights, N):\n",
    "    reck=weights\n",
    "    phases=[]\n",
    "    for i in range(1,N):\n",
    "        for j in range(0, i):\n",
    "            phi=cm.phase(reck[j,i])-cm.phase(reck[j,j])\n",
    "            theta=m.atan(abs(reck[j,j])/abs(reck[j,i]))\n",
    "            reck=reck.dot(T_pq(N,i,j,phi,theta))\n",
    "            phases.append([phi,theta])\n",
    "    return phases\n"
   ]
  }
 ],
 "metadata": {
  "kernelspec": {
   "display_name": "base",
   "language": "python",
   "name": "python3"
  },
  "language_info": {
   "codemirror_mode": {
    "name": "ipython",
    "version": 3
   },
   "file_extension": ".py",
   "mimetype": "text/x-python",
   "name": "python",
   "nbconvert_exporter": "python",
   "pygments_lexer": "ipython3",
   "version": "3.7.16"
  }
 },
 "nbformat": 4,
 "nbformat_minor": 4
}
